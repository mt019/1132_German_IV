{
 "cells": [
  {
   "cell_type": "code",
   "execution_count": 10,
   "metadata": {
    "vscode": {
     "languageId": "r"
    }
   },
   "outputs": [
    {
     "data": {
      "text/html": [
       "'zh_TW.UTF-8'"
      ],
      "text/latex": [
       "'zh\\_TW.UTF-8'"
      ],
      "text/markdown": [
       "'zh_TW.UTF-8'"
      ],
      "text/plain": [
       "[1] \"zh_TW.UTF-8\""
      ]
     },
     "metadata": {},
     "output_type": "display_data"
    }
   ],
   "source": [
    "# === setup_bookdown.R ===\n",
    "Sys.setlocale(\"LC_CTYPE\", \"zh_TW.UTF-8\")\n",
    "setwd(\"/Users/iw/Documents/NTU/1132/1132_German_IV\")\n",
    "\n",
    "# 📁 設定章節來源目錄（從當前資料夾開始遞迴找所有 .md / .Rmd）\n",
    "library(stringr)\n",
    "\n"
   ]
  },
  {
   "cell_type": "code",
   "execution_count": 11,
   "metadata": {
    "vscode": {
     "languageId": "r"
    }
   },
   "outputs": [
    {
     "name": "stdout",
     "output_type": "stream",
     "text": [
      "\n",
      "✅ _bookdown.yml 產生成功，共  5  個章節！\n"
     ]
    }
   ],
   "source": [
    "\n",
    "\n",
    "# --- STEP 3: 建立 _bookdown.yml ---\n",
    "all_files <- list.files(\".\", pattern = \"\\\\.R?md$\", recursive = TRUE, full.names = TRUE)\n",
    "# 排除 _bookdown.yml 本身、README、開頭是 \"_\" 的檔案\n",
    "valid_files <- all_files[!grepl(\"^_\", basename(all_files))]\n",
    "valid_files <- valid_files[!basename(valid_files) %in% c(\"README.md\", \"README.Rmd\")]\n",
    "valid_files <- sort(valid_files)\n",
    "# 將 index.Rmd 放最前面\n",
    "valid_files <- c(\"index.Rmd\", setdiff(valid_files, \"index.Rmd\"))\n",
    "\n",
    "# YAML 內容\n",
    "yaml_lines <- c(\n",
    "  'book_filename: \"1132-German-IV.Rmd\"',\n",
    "  'clean: [packages.bib, bookdown.bbl]',\n",
    "  'delete_merged_file: true',\n",
    "  'language:',\n",
    "  '  label:',\n",
    "  '    fig: \"圖 \"',\n",
    "  '    tab: \"表 \"',\n",
    "  '  ui:',\n",
    "  '    edit: \"編輯\"',\n",
    "  '    chapter_name: [\"第 \", \" 章\"]',\n",
    "  'output_dir: \"docs\"',\n",
    "  'rmd_subdir: true',\n",
    "  'rmd_files:',\n",
    "  paste0(\"  - \", valid_files)\n",
    ")\n",
    "\n",
    "writeLines(yaml_lines, \"_bookdown.yml\")\n",
    "cat(\"\\n✅ _bookdown.yml 產生成功，共 \", length(valid_files), \" 個章節！\\n\")\n",
    "\n",
    "# --- STEP 4: 選擇性立即渲染書籍 ---\n",
    "# bookdown::render_book(\"index.Rmd\", \"bookdown::gitbook\")"
   ]
  }
 ],
 "metadata": {
  "kernelspec": {
   "display_name": "R",
   "language": "R",
   "name": "ir"
  },
  "language_info": {
   "codemirror_mode": "r",
   "file_extension": ".r",
   "mimetype": "text/x-r-source",
   "name": "R",
   "pygments_lexer": "r",
   "version": "4.4.3"
  }
 },
 "nbformat": 4,
 "nbformat_minor": 2
}
